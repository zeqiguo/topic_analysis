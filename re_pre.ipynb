{
 "cells": [
  {
   "cell_type": "code",
   "execution_count": 1,
   "metadata": {},
   "outputs": [],
   "source": [
    "# import pre\n"
   ]
  },
  {
   "cell_type": "code",
   "execution_count": 31,
   "metadata": {},
   "outputs": [],
   "source": [
    "files = ['Audi.csv', 'BMW.csv', 'Chrysler.csv', 'Ford.csv', 'GMC.csv', 'Honda.csv', 'Mercedes-Benz.csv', 'Nissan.csv', 'Toyota.csv']"
   ]
  },
  {
   "cell_type": "code",
   "execution_count": 24,
   "metadata": {},
   "outputs": [],
   "source": [
    "sp = spacy.load('en_core_web_sm', disable=['parser', 'ner'])\n",
    "ps = PorterStemmer()\n",
    "\n",
    "def simple_processor(token):\n",
    "    str = unidecode(token)\n",
    "    str = strip_punctuation(str)\n",
    "    str = strip_multiple_whitespaces(str)\n",
    "    \n",
    "    tokens = str.split(' ')\n",
    "    tokens = [ps.stem(token) for token in tokens]\n",
    "    str = ' '.join(tokens)\n",
    "    return str"
   ]
  },
  {
   "cell_type": "code",
   "execution_count": 32,
   "metadata": {},
   "outputs": [],
   "source": [
    "def re_pre(file):\n",
    "    df = pd.read_csv('Make_data/{}'.format(file))\n",
    "    \n",
    "    corpus = []\n",
    "    for comment in df['Ori_comments']:\n",
    "        corpus.append(simple_processor(comment))\n",
    "    \n",
    "    with open('Corpus_data/{}_corpus.txt'.format(file.split('.')[0]), mode='w', encoding='utf-8') as f:\n",
    "        for line in corpus:\n",
    "            f.write(line + '\\n')\n",
    "        \n",
    "for file in files:\n",
    "    re_pre(file)"
   ]
  },
  {
   "cell_type": "code",
   "execution_count": null,
   "metadata": {},
   "outputs": [],
   "source": []
  }
 ],
 "metadata": {
  "kernelspec": {
   "display_name": "Python 3",
   "language": "python",
   "name": "python3"
  },
  "language_info": {
   "codemirror_mode": {
    "name": "ipython",
    "version": 3
   },
   "file_extension": ".py",
   "mimetype": "text/x-python",
   "name": "python",
   "nbconvert_exporter": "python",
   "pygments_lexer": "ipython3",
   "version": "3.6.7"
  }
 },
 "nbformat": 4,
 "nbformat_minor": 2
}
